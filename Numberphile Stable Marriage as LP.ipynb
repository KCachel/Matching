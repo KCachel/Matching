{
 "cells": [
  {
   "cell_type": "markdown",
   "metadata": {},
   "source": [
    "# Numberphile Stable Marriage as LP\n",
    "\n",
    "In this awesome [Numberphile video](https://www.youtube.com/watch?v=Qcv1IqHWAzg) the stable marriage problem is described, along with the Gale-Shapley algorithm for how to solve it. Here I take the lovely Jane Austen inspired problem and attempt to solve it as an LP in python using the PuLP package. \n"
   ]
  },
  {
   "cell_type": "markdown",
   "metadata": {},
   "source": [
    "Before we dive totally into the code, below I have used pandas dataframes to represent the preferences of our characters in the dating pool. We have 8 beloved Pride and Prejudice characters, 4 men and 4 women and there preferences are represented below. "
   ]
  },
  {
   "cell_type": "code",
   "execution_count": 1,
   "metadata": {},
   "outputs": [],
   "source": [
    "import numpy as np\n",
    "import pandas as pd\n",
    "\n",
    "womenPref = pd.DataFrame({\n",
    "    \"Charlotte\" : ['Bingley' ,'Darcy', 'Collins', 'Wickham'],\n",
    "    \"Elizabeth\" : ['Wickham', 'Darcy', 'Bingley', 'Collins'],\n",
    "    \"Jane\" : ['Bingley', 'Wickham', 'Darcy', 'Collins'],\n",
    "    \"Lydia\" : ['Bingley','Wickham','Darcy','Collins']})\n",
    "menPref = pd.DataFrame({\n",
    "    \"Bingley\" :['Jane','Elizabeth','Lydia','Charlotte'],\n",
    "    \"Collins\" :['Jane','Elizabeth','Lydia','Charlotte'],\n",
    "    \"Darcy\" :['Elizabeth','Jane','Charlotte','Lydia'],\n",
    "    \"Wickham\" :['Lydia','Jane','Elizabeth','Charlotte']})"
   ]
  },
  {
   "cell_type": "code",
   "execution_count": 2,
   "metadata": {},
   "outputs": [
    {
     "data": {
      "text/html": [
       "<div>\n",
       "<style scoped>\n",
       "    .dataframe tbody tr th:only-of-type {\n",
       "        vertical-align: middle;\n",
       "    }\n",
       "\n",
       "    .dataframe tbody tr th {\n",
       "        vertical-align: top;\n",
       "    }\n",
       "\n",
       "    .dataframe thead th {\n",
       "        text-align: right;\n",
       "    }\n",
       "</style>\n",
       "<table border=\"1\" class=\"dataframe\">\n",
       "  <thead>\n",
       "    <tr style=\"text-align: right;\">\n",
       "      <th></th>\n",
       "      <th>Charlotte</th>\n",
       "      <th>Elizabeth</th>\n",
       "      <th>Jane</th>\n",
       "      <th>Lydia</th>\n",
       "    </tr>\n",
       "  </thead>\n",
       "  <tbody>\n",
       "    <tr>\n",
       "      <th>0</th>\n",
       "      <td>Bingley</td>\n",
       "      <td>Wickham</td>\n",
       "      <td>Bingley</td>\n",
       "      <td>Bingley</td>\n",
       "    </tr>\n",
       "    <tr>\n",
       "      <th>1</th>\n",
       "      <td>Darcy</td>\n",
       "      <td>Darcy</td>\n",
       "      <td>Wickham</td>\n",
       "      <td>Wickham</td>\n",
       "    </tr>\n",
       "    <tr>\n",
       "      <th>2</th>\n",
       "      <td>Collins</td>\n",
       "      <td>Bingley</td>\n",
       "      <td>Darcy</td>\n",
       "      <td>Darcy</td>\n",
       "    </tr>\n",
       "    <tr>\n",
       "      <th>3</th>\n",
       "      <td>Wickham</td>\n",
       "      <td>Collins</td>\n",
       "      <td>Collins</td>\n",
       "      <td>Collins</td>\n",
       "    </tr>\n",
       "  </tbody>\n",
       "</table>\n",
       "</div>"
      ],
      "text/plain": [
       "  Charlotte Elizabeth     Jane    Lydia\n",
       "0   Bingley   Wickham  Bingley  Bingley\n",
       "1     Darcy     Darcy  Wickham  Wickham\n",
       "2   Collins   Bingley    Darcy    Darcy\n",
       "3   Wickham   Collins  Collins  Collins"
      ]
     },
     "execution_count": 2,
     "metadata": {},
     "output_type": "execute_result"
    }
   ],
   "source": [
    "womenPref"
   ]
  },
  {
   "cell_type": "code",
   "execution_count": 3,
   "metadata": {},
   "outputs": [
    {
     "data": {
      "text/html": [
       "<div>\n",
       "<style scoped>\n",
       "    .dataframe tbody tr th:only-of-type {\n",
       "        vertical-align: middle;\n",
       "    }\n",
       "\n",
       "    .dataframe tbody tr th {\n",
       "        vertical-align: top;\n",
       "    }\n",
       "\n",
       "    .dataframe thead th {\n",
       "        text-align: right;\n",
       "    }\n",
       "</style>\n",
       "<table border=\"1\" class=\"dataframe\">\n",
       "  <thead>\n",
       "    <tr style=\"text-align: right;\">\n",
       "      <th></th>\n",
       "      <th>Bingley</th>\n",
       "      <th>Collins</th>\n",
       "      <th>Darcy</th>\n",
       "      <th>Wickham</th>\n",
       "    </tr>\n",
       "  </thead>\n",
       "  <tbody>\n",
       "    <tr>\n",
       "      <th>0</th>\n",
       "      <td>Jane</td>\n",
       "      <td>Jane</td>\n",
       "      <td>Elizabeth</td>\n",
       "      <td>Lydia</td>\n",
       "    </tr>\n",
       "    <tr>\n",
       "      <th>1</th>\n",
       "      <td>Elizabeth</td>\n",
       "      <td>Elizabeth</td>\n",
       "      <td>Jane</td>\n",
       "      <td>Jane</td>\n",
       "    </tr>\n",
       "    <tr>\n",
       "      <th>2</th>\n",
       "      <td>Lydia</td>\n",
       "      <td>Lydia</td>\n",
       "      <td>Charlotte</td>\n",
       "      <td>Elizabeth</td>\n",
       "    </tr>\n",
       "    <tr>\n",
       "      <th>3</th>\n",
       "      <td>Charlotte</td>\n",
       "      <td>Charlotte</td>\n",
       "      <td>Lydia</td>\n",
       "      <td>Charlotte</td>\n",
       "    </tr>\n",
       "  </tbody>\n",
       "</table>\n",
       "</div>"
      ],
      "text/plain": [
       "     Bingley    Collins      Darcy    Wickham\n",
       "0       Jane       Jane  Elizabeth      Lydia\n",
       "1  Elizabeth  Elizabeth       Jane       Jane\n",
       "2      Lydia      Lydia  Charlotte  Elizabeth\n",
       "3  Charlotte  Charlotte      Lydia  Charlotte"
      ]
     },
     "execution_count": 3,
     "metadata": {},
     "output_type": "execute_result"
    }
   ],
   "source": [
    "menPref"
   ]
  },
  {
   "cell_type": "markdown",
   "metadata": {},
   "source": [
    "## Formulating our LP\n",
    "\n",
    "### The decision variables \n",
    "We have 16 decision variables in total (4 men * 4 women or M men and W women) that make up all possible pairs. \n",
    "\n",
    "$$\n",
    "  \\begin{equation}\n",
    "    x_{m w}=\n",
    "    \\begin{cases}\n",
    "      1, & \\text{if man m and woman w are matched}\\\\\n",
    "      0, & \\text{otherwise}\n",
    "    \\end{cases}\n",
    "  \\end{equation}\n",
    "$$\n",
    "\n",
    "### The constraints \n",
    "We have two types of constraints: (1.) matching constraints that ensure that each person is matched with one other person of the opposite sex and (2.) stability constraints which ensure that our \"matches\" can do no better because if man m' and women w' have not been paired then one of them has been paired with a partner that they prefer more.\n",
    "\n",
    "#### Matching constraints \n",
    "\n",
    "Our first constraint specifies that each woman is matched to one man\n",
    "$$\n",
    "\\begin{equation}\n",
    "\\sum_{m=1}^M x_{m w} = 1 \\text{  for woman = w within [Charlotte, Elizabeth, Jane, Lydia]}\n",
    "\\end{equation}\n",
    "$$\n",
    "\n",
    "Our second constraint specifies that each man is matched to one woman\n",
    "$$\n",
    "\\begin{equation}\n",
    "\\sum_{w=1}^W x_{m w} = 1 \\text{  for man = m within [Bingley, Collins, Darcy, Wickham]}\n",
    "\\end{equation}\n",
    "$$\n",
    "\n",
    "#### Stability constraints \n",
    "We have 16 stability constraints (one for each potential pair). These basically say that for a given pair (m,w) if either m or w is married to someone who they prefer less to m or w the pair is unstable. So algebraically we have something like:\n",
    "\n",
    "\n",
    "$$\n",
    "\\begin{equation}\n",
    "x_{m w} + \\sum_{w'= w - 1}^W x_{m w'} + \\sum_{m'= m - 1}^M x_{m' w} \\leq 1 \\text{  for every pair (m,w)}\n",
    "\\end{equation}\n",
    "$$\n"
   ]
  },
  {
   "cell_type": "code",
   "execution_count": 4,
   "metadata": {},
   "outputs": [
    {
     "name": "stdout",
     "output_type": "stream",
     "text": [
      "[('Bingley', 'Charlotte'), ('Bingley', 'Elizabeth'), ('Bingley', 'Jane'), ('Bingley', 'Lydia'), ('Collins', 'Charlotte'), ('Collins', 'Elizabeth'), ('Collins', 'Jane'), ('Collins', 'Lydia'), ('Darcy', 'Charlotte'), ('Darcy', 'Elizabeth'), ('Darcy', 'Jane'), ('Darcy', 'Lydia'), ('Wickham', 'Charlotte'), ('Wickham', 'Elizabeth'), ('Wickham', 'Jane'), ('Wickham', 'Lydia')]\n"
     ]
    }
   ],
   "source": [
    "Women = ['Charlotte', 'Elizabeth', 'Jane', 'Lydia']\n",
    "Men = ['Bingley', 'Collins', 'Darcy', 'Wickham']\n",
    "\n",
    "#create a list of tuples containing all possible strokes and swimers\n",
    "combos = [(m,w) for m in Men for w in Women]\n",
    "\n",
    "print(combos)"
   ]
  },
  {
   "cell_type": "code",
   "execution_count": 5,
   "metadata": {},
   "outputs": [],
   "source": [
    "# Import PuLP modeler functions\n",
    "from pulp import *"
   ]
  },
  {
   "cell_type": "code",
   "execution_count": 6,
   "metadata": {},
   "outputs": [],
   "source": [
    "#Create the 'prob' variable to contain the problem data\n",
    "prob = LpProblem(\"Stable_Marriage\", LpMaximize)"
   ]
  },
  {
   "cell_type": "code",
   "execution_count": 7,
   "metadata": {},
   "outputs": [],
   "source": [
    "#Create the Xmw variable\n",
    "pair = LpVariable.dicts(\"pair\", (Men, Women),0,1,LpInteger)"
   ]
  },
  {
   "cell_type": "code",
   "execution_count": 8,
   "metadata": {},
   "outputs": [],
   "source": [
    "#Create a constraint ensuring that man is assigned to only one woman\n",
    "for m in Men:\n",
    "    prob += lpSum(pair[m][w] for w in Women) == 1, \"\"\n",
    "    \n",
    "#Create a constraint ensuring that  womman is assigned to only one man\n",
    "for w in Women:\n",
    "    prob += lpSum(pair[m][w] for m in Men) == 1, \"\""
   ]
  },
  {
   "cell_type": "code",
   "execution_count": 10,
   "metadata": {},
   "outputs": [],
   "source": [
    "#Now we formulate our stability\n",
    "# Loop through every combo \n",
    "for (m,w) in combos:\n",
    "    menVar = []\n",
    "    womenVar = []\n",
    "    \n",
    "    #Add the initial pair to the respective lists\n",
    "    menVar.append(m)\n",
    "    womenVar.append(w)\n",
    "    \n",
    "    ##\n",
    "    #For the Woman: look at her preferences and collect her potential pairs that are lowerer than the initial pair \n",
    "    ##\n",
    "    sel_row = list(np.where(womenPref[w] == m)[0])[0] #Get the row index of initial m\n",
    "    #Loop through woman w's men that are lower than m and add those men and w to the menVar and womenVar lists\n",
    "    for i in range(sel_row+1,4): \n",
    "        lowerPrefMan = womenPref.loc[[i],[w]].to_numpy()[0][0]\n",
    "        menVar.append(lowerPrefMan)\n",
    "        womenVar.append(w)\n",
    "\n",
    "    ##\n",
    "    #For the Man: look at his preferences and collect his potential pairs that are lowerer than the initial pair \n",
    "    ##\n",
    "    sel_row = list(np.where(menPref[m] == w)[0])[0] #Get the row index of initial w\n",
    "\n",
    "    #Loop through man m's women that are lower than w and add those wommen and m to the menVar and womenVar lists\n",
    "    for i in range(sel_row+1,4): \n",
    "        lowerPrefWoman = menPref.loc[[i],[m]].to_numpy()[0][0]\n",
    "        menVar.append(m)\n",
    "        womenVar.append(lowerPrefWoman)\n",
    "    \n",
    "    #We zip our pair by combining menVar and womenVar\n",
    "    stabilityPairs = zip(menVar,womenVar)\n",
    "    \n",
    "    #Add the stability constraint\n",
    "    prob += lpSum(pair[m][w] for (m, w) in stabilityPairs) <= 1, \"\""
   ]
  },
  {
   "cell_type": "code",
   "execution_count": 11,
   "metadata": {},
   "outputs": [],
   "source": [
    "# The problem data is written to an .lp file\n",
    "prob.writeLP(\"Model.lp\")"
   ]
  },
  {
   "cell_type": "code",
   "execution_count": 12,
   "metadata": {},
   "outputs": [
    {
     "data": {
      "text/plain": [
       "1"
      ]
     },
     "execution_count": 12,
     "metadata": {},
     "output_type": "execute_result"
    }
   ],
   "source": [
    "prob.solve()"
   ]
  },
  {
   "cell_type": "code",
   "execution_count": 13,
   "metadata": {},
   "outputs": [
    {
     "name": "stdout",
     "output_type": "stream",
     "text": [
      "__dummy = None\n",
      "pair_Bingley_Charlotte = 0.0\n",
      "pair_Bingley_Elizabeth = 0.0\n",
      "pair_Bingley_Jane = 1.0\n",
      "pair_Bingley_Lydia = 0.0\n",
      "pair_Collins_Charlotte = 1.0\n",
      "pair_Collins_Elizabeth = 0.0\n",
      "pair_Collins_Jane = 0.0\n",
      "pair_Collins_Lydia = 0.0\n",
      "pair_Darcy_Charlotte = 0.0\n",
      "pair_Darcy_Elizabeth = 1.0\n",
      "pair_Darcy_Jane = 0.0\n",
      "pair_Darcy_Lydia = 0.0\n",
      "pair_Wickham_Charlotte = 0.0\n",
      "pair_Wickham_Elizabeth = 0.0\n",
      "pair_Wickham_Jane = 0.0\n",
      "pair_Wickham_Lydia = 1.0\n"
     ]
    }
   ],
   "source": [
    "#Print the variables\n",
    "for v in prob.variables():\n",
    "    print(v.name, \"=\", v.varValue)"
   ]
  },
  {
   "cell_type": "code",
   "execution_count": null,
   "metadata": {},
   "outputs": [],
   "source": []
  }
 ],
 "metadata": {
  "kernelspec": {
   "display_name": "Python 3",
   "language": "python",
   "name": "python3"
  },
  "language_info": {
   "codemirror_mode": {
    "name": "ipython",
    "version": 3
   },
   "file_extension": ".py",
   "mimetype": "text/x-python",
   "name": "python",
   "nbconvert_exporter": "python",
   "pygments_lexer": "ipython3",
   "version": "3.7.6"
  }
 },
 "nbformat": 4,
 "nbformat_minor": 4
}
